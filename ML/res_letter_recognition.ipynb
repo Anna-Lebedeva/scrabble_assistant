{
 "cells": [
  {
   "cell_type": "code",
   "execution_count": 4,
   "metadata": {},
   "outputs": [],
   "source": [
    "%matplotlib inline\n",
    "import matplotlib.pyplot as plt\n",
    "import seaborn as sns\n",
    "\n",
    "from pathlib import Path\n",
    "\n",
    "import numpy as np\n",
    "import pandas as pd\n",
    "\n",
    "from skimage import img_as_float, io, img_as_bool\n",
    "from skimage.io import imread, imshow\n",
    "from skimage.color import rgb2gray\n",
    "from skimage import exposure\n",
    "\n",
    "from skimage.restoration import denoise_nl_means, denoise_wavelet, estimate_sigma\n",
    "\n",
    "from skimage.metrics import peak_signal_noise_ratio\n",
    "\n",
    "from skimage.filters import try_all_threshold\n",
    "\n",
    "from sklearn.feature_extraction.image import extract_patches_2d\n",
    "from sklearn.feature_extraction.image import reconstruct_from_patches_2d"
   ]
  },
  {
   "cell_type": "code",
   "execution_count": 2,
   "metadata": {},
   "outputs": [],
   "source": [
    "IMG_PATH = Path.cwd() / Path('dataset') / Path('2') / Path('IMG_20200615_184009_12.jpg')"
   ]
  },
  {
   "cell_type": "code",
   "execution_count": 5,
   "metadata": {},
   "outputs": [
    {
     "data": {
      "text/plain": [
       "<matplotlib.image.AxesImage at 0x1a8088131c8>"
      ]
     },
     "execution_count": 5,
     "metadata": {},
     "output_type": "execute_result"
    },
    {
     "data": {
      "image/png": "[encoded data removed]",
      "text/plain": [
       "<Figure size 432x288 with 1 Axes>"
      ]
     },
     "metadata": {
      "needs_background": "light"
     },
     "output_type": "display_data"
    }
   ],
   "source": [
    "image = img_as_bool(imread(IMG_PATH))\n",
    "imshow(image)"
   ]
  },
  {
   "cell_type": "code",
   "execution_count": 4,
   "metadata": {},
   "outputs": [
    {
     "data": {
      "text/plain": [
       "array([[[ 34,  40,  52],\n",
       "        [ 41,  41,  67],\n",
       "        [ 40,  43,  84],\n",
       "        ...,\n",
       "        [ 16,  51,  89],\n",
       "        [ 13,  39,  74],\n",
       "        [ 14,  29,  62]],\n",
       "\n",
       "       [[ 30,  39,  46],\n",
       "        [ 35,  51,  77],\n",
       "        [ 41,  69, 119],\n",
       "        ...,\n",
       "        [ 33,  77, 122],\n",
       "        [ 24,  57, 100],\n",
       "        [ 15,  37,  78]],\n",
       "\n",
       "       [[ 20,  37,  47],\n",
       "        [ 21,  57,  91],\n",
       "        [ 29,  90, 153],\n",
       "        ...,\n",
       "        [ 44,  96, 154],\n",
       "        [ 37,  78, 132],\n",
       "        [ 26,  56, 108]],\n",
       "\n",
       "       ...,\n",
       "\n",
       "       [[ 24,  41,  57],\n",
       "        [ 20,  31,  51],\n",
       "        [ 21,  32,  62],\n",
       "        ...,\n",
       "        [ 27,  64, 108],\n",
       "        [ 23,  47,  83],\n",
       "        [ 20,  39,  69]],\n",
       "\n",
       "       [[ 18,  33,  40],\n",
       "        [ 27,  36,  43],\n",
       "        [ 24,  31,  41],\n",
       "        ...,\n",
       "        [ 31,  52,  83],\n",
       "        [ 30,  38,  61],\n",
       "        [ 27,  33,  49]],\n",
       "\n",
       "       [[ 27,  34,  42],\n",
       "        [ 15,  25,  27],\n",
       "        [ 24,  36,  36],\n",
       "        ...,\n",
       "        [ 26,  36,  61],\n",
       "        [ 29,  28,  46],\n",
       "        [ 28,  26,  39]]], dtype=uint8)"
      ]
     },
     "execution_count": 4,
     "metadata": {},
     "output_type": "execute_result"
    }
   ],
   "source": [
    "image"
   ]
  },
  {
   "cell_type": "code",
   "execution_count": 5,
   "metadata": {},
   "outputs": [
    {
     "data": {
      "text/plain": [
       "<matplotlib.image.AxesImage at 0x216790c4948>"
      ]
     },
     "execution_count": 5,
     "metadata": {},
     "output_type": "execute_result"
    },
    {
     "data": {
      "image/png": "[encoded data removed]",
      "text/plain": [
       "<Figure size 432x288 with 1 Axes>"
      ]
     },
     "metadata": {
      "needs_background": "light"
     },
     "output_type": "display_data"
    }
   ],
   "source": [
    "imshow(image)"
   ]
  },
  {
   "cell_type": "code",
   "execution_count": 6,
   "metadata": {},
   "outputs": [],
   "source": [
    "gray_image = rgb2gray(image)\n",
    "gray_image2 = rgb2gray(image2)"
   ]
  },
  {
   "cell_type": "code",
   "execution_count": 47,
   "metadata": {},
   "outputs": [
    {
     "name": "stdout",
     "output_type": "stream",
     "text": [
      "skimage.filters.thresholding.threshold_isodata\n",
      "skimage.filters.thresholding.threshold_li\n",
      "skimage.filters.thresholding.threshold_mean\n",
      "skimage.filters.thresholding.threshold_minimum\n",
      "skimage.filters.thresholding.threshold_otsu\n",
      "skimage.filters.thresholding.threshold_triangle\n",
      "skimage.filters.thresholding.threshold_yen\n"
     ]
    },
    {
     "ename": "TypeError",
     "evalue": "'>=' not supported between instances of 'AxesSubplot' and 'Figure'",
     "output_type": "error",
     "traceback": [
      "\u001b[1;31m---------------------------------------------------------------------------\u001b[0m",
      "\u001b[1;31mTypeError\u001b[0m                                 Traceback (most recent call last)",
      "\u001b[1;32m<ipython-input-47-ec7b1212de29>\u001b[0m in \u001b[0;36m<module>\u001b[1;34m\u001b[0m\n\u001b[1;32m----> 1\u001b[1;33m \u001b[0mimshow\u001b[0m\u001b[1;33m(\u001b[0m\u001b[0mtry_all_threshold\u001b[0m\u001b[1;33m(\u001b[0m\u001b[0mgray_image\u001b[0m\u001b[1;33m)\u001b[0m\u001b[1;33m)\u001b[0m\u001b[1;33m\u001b[0m\u001b[1;33m\u001b[0m\u001b[0m\n\u001b[0m",
      "\u001b[1;32mC:\\ProgramData\\Anaconda3\\lib\\site-packages\\skimage\\io\\_io.py\u001b[0m in \u001b[0;36mimshow\u001b[1;34m(arr, plugin, **plugin_args)\u001b[0m\n\u001b[0;32m    152\u001b[0m     \u001b[1;32mif\u001b[0m \u001b[0misinstance\u001b[0m\u001b[1;33m(\u001b[0m\u001b[0marr\u001b[0m\u001b[1;33m,\u001b[0m \u001b[0mstr\u001b[0m\u001b[1;33m)\u001b[0m\u001b[1;33m:\u001b[0m\u001b[1;33m\u001b[0m\u001b[1;33m\u001b[0m\u001b[0m\n\u001b[0;32m    153\u001b[0m         \u001b[0marr\u001b[0m \u001b[1;33m=\u001b[0m \u001b[0mcall_plugin\u001b[0m\u001b[1;33m(\u001b[0m\u001b[1;34m'imread'\u001b[0m\u001b[1;33m,\u001b[0m \u001b[0marr\u001b[0m\u001b[1;33m,\u001b[0m \u001b[0mplugin\u001b[0m\u001b[1;33m=\u001b[0m\u001b[0mplugin\u001b[0m\u001b[1;33m)\u001b[0m\u001b[1;33m\u001b[0m\u001b[1;33m\u001b[0m\u001b[0m\n\u001b[1;32m--> 154\u001b[1;33m     \u001b[1;32mreturn\u001b[0m \u001b[0mcall_plugin\u001b[0m\u001b[1;33m(\u001b[0m\u001b[1;34m'imshow'\u001b[0m\u001b[1;33m,\u001b[0m \u001b[0marr\u001b[0m\u001b[1;33m,\u001b[0m \u001b[0mplugin\u001b[0m\u001b[1;33m=\u001b[0m\u001b[0mplugin\u001b[0m\u001b[1;33m,\u001b[0m \u001b[1;33m**\u001b[0m\u001b[0mplugin_args\u001b[0m\u001b[1;33m)\u001b[0m\u001b[1;33m\u001b[0m\u001b[1;33m\u001b[0m\u001b[0m\n\u001b[0m\u001b[0;32m    155\u001b[0m \u001b[1;33m\u001b[0m\u001b[0m\n\u001b[0;32m    156\u001b[0m \u001b[1;33m\u001b[0m\u001b[0m\n",
      "\u001b[1;32mC:\\ProgramData\\Anaconda3\\lib\\site-packages\\skimage\\io\\manage_plugins.py\u001b[0m in \u001b[0;36mcall_plugin\u001b[1;34m(kind, *args, **kwargs)\u001b[0m\n\u001b[0;32m    208\u001b[0m                                (plugin, kind))\n\u001b[0;32m    209\u001b[0m \u001b[1;33m\u001b[0m\u001b[0m\n\u001b[1;32m--> 210\u001b[1;33m     \u001b[1;32mreturn\u001b[0m \u001b[0mfunc\u001b[0m\u001b[1;33m(\u001b[0m\u001b[1;33m*\u001b[0m\u001b[0margs\u001b[0m\u001b[1;33m,\u001b[0m \u001b[1;33m**\u001b[0m\u001b[0mkwargs\u001b[0m\u001b[1;33m)\u001b[0m\u001b[1;33m\u001b[0m\u001b[1;33m\u001b[0m\u001b[0m\n\u001b[0m\u001b[0;32m    211\u001b[0m \u001b[1;33m\u001b[0m\u001b[0m\n\u001b[0;32m    212\u001b[0m \u001b[1;33m\u001b[0m\u001b[0m\n",
      "\u001b[1;32mC:\\ProgramData\\Anaconda3\\lib\\site-packages\\skimage\\io\\_plugins\\matplotlib_plugin.py\u001b[0m in \u001b[0;36mimshow\u001b[1;34m(image, ax, show_cbar, **kwargs)\u001b[0m\n\u001b[0;32m    148\u001b[0m     \u001b[1;32mimport\u001b[0m \u001b[0mmatplotlib\u001b[0m\u001b[1;33m.\u001b[0m\u001b[0mpyplot\u001b[0m \u001b[1;32mas\u001b[0m \u001b[0mplt\u001b[0m\u001b[1;33m\u001b[0m\u001b[1;33m\u001b[0m\u001b[0m\n\u001b[0;32m    149\u001b[0m \u001b[1;33m\u001b[0m\u001b[0m\n\u001b[1;32m--> 150\u001b[1;33m     \u001b[0mlo\u001b[0m\u001b[1;33m,\u001b[0m \u001b[0mhi\u001b[0m\u001b[1;33m,\u001b[0m \u001b[0mcmap\u001b[0m \u001b[1;33m=\u001b[0m \u001b[0m_get_display_range\u001b[0m\u001b[1;33m(\u001b[0m\u001b[0mimage\u001b[0m\u001b[1;33m)\u001b[0m\u001b[1;33m\u001b[0m\u001b[1;33m\u001b[0m\u001b[0m\n\u001b[0m\u001b[0;32m    151\u001b[0m \u001b[1;33m\u001b[0m\u001b[0m\n\u001b[0;32m    152\u001b[0m     \u001b[0mkwargs\u001b[0m\u001b[1;33m.\u001b[0m\u001b[0msetdefault\u001b[0m\u001b[1;33m(\u001b[0m\u001b[1;34m'interpolation'\u001b[0m\u001b[1;33m,\u001b[0m \u001b[1;34m'nearest'\u001b[0m\u001b[1;33m)\u001b[0m\u001b[1;33m\u001b[0m\u001b[1;33m\u001b[0m\u001b[0m\n",
      "\u001b[1;32mC:\\ProgramData\\Anaconda3\\lib\\site-packages\\skimage\\io\\_plugins\\matplotlib_plugin.py\u001b[0m in \u001b[0;36m_get_display_range\u001b[1;34m(image)\u001b[0m\n\u001b[0;32m     95\u001b[0m         \u001b[0mThe\u001b[0m \u001b[0mname\u001b[0m \u001b[0mof\u001b[0m \u001b[0mthe\u001b[0m \u001b[0mcolormap\u001b[0m \u001b[0mto\u001b[0m \u001b[0muse\u001b[0m\u001b[1;33m.\u001b[0m\u001b[1;33m\u001b[0m\u001b[1;33m\u001b[0m\u001b[0m\n\u001b[0;32m     96\u001b[0m     \"\"\"\n\u001b[1;32m---> 97\u001b[1;33m     \u001b[0mip\u001b[0m \u001b[1;33m=\u001b[0m \u001b[0m_get_image_properties\u001b[0m\u001b[1;33m(\u001b[0m\u001b[0mimage\u001b[0m\u001b[1;33m)\u001b[0m\u001b[1;33m\u001b[0m\u001b[1;33m\u001b[0m\u001b[0m\n\u001b[0m\u001b[0;32m     98\u001b[0m     \u001b[0mimmin\u001b[0m\u001b[1;33m,\u001b[0m \u001b[0mimmax\u001b[0m \u001b[1;33m=\u001b[0m \u001b[0mnp\u001b[0m\u001b[1;33m.\u001b[0m\u001b[0mmin\u001b[0m\u001b[1;33m(\u001b[0m\u001b[0mimage\u001b[0m\u001b[1;33m)\u001b[0m\u001b[1;33m,\u001b[0m \u001b[0mnp\u001b[0m\u001b[1;33m.\u001b[0m\u001b[0mmax\u001b[0m\u001b[1;33m(\u001b[0m\u001b[0mimage\u001b[0m\u001b[1;33m)\u001b[0m\u001b[1;33m\u001b[0m\u001b[1;33m\u001b[0m\u001b[0m\n\u001b[0;32m     99\u001b[0m     \u001b[1;32mif\u001b[0m \u001b[0mip\u001b[0m\u001b[1;33m.\u001b[0m\u001b[0msigned\u001b[0m\u001b[1;33m:\u001b[0m\u001b[1;33m\u001b[0m\u001b[1;33m\u001b[0m\u001b[0m\n",
      "\u001b[1;32mC:\\ProgramData\\Anaconda3\\lib\\site-packages\\skimage\\io\\_plugins\\matplotlib_plugin.py\u001b[0m in \u001b[0;36m_get_image_properties\u001b[1;34m(image)\u001b[0m\n\u001b[0;32m     42\u001b[0m           \u001b[0mstandard\u001b[0m \u001b[0mskimage\u001b[0m \u001b[0mtype\u001b[0m\u001b[1;33m,\u001b[0m \u001b[0me\u001b[0m\u001b[1;33m.\u001b[0m\u001b[0mg\u001b[0m\u001b[1;33m.\u001b[0m\u001b[0;31m \u001b[0m\u001b[0;31m`\u001b[0m\u001b[0;31m`\u001b[0m\u001b[0mnumpy\u001b[0m\u001b[1;33m.\u001b[0m\u001b[0muint64\u001b[0m\u001b[0;31m`\u001b[0m\u001b[0;31m`\u001b[0m\u001b[1;33m.\u001b[0m\u001b[1;33m\u001b[0m\u001b[1;33m\u001b[0m\u001b[0m\n\u001b[0;32m     43\u001b[0m     \"\"\"\n\u001b[1;32m---> 44\u001b[1;33m     \u001b[0mimmin\u001b[0m\u001b[1;33m,\u001b[0m \u001b[0mimmax\u001b[0m \u001b[1;33m=\u001b[0m \u001b[0mnp\u001b[0m\u001b[1;33m.\u001b[0m\u001b[0mmin\u001b[0m\u001b[1;33m(\u001b[0m\u001b[0mimage\u001b[0m\u001b[1;33m)\u001b[0m\u001b[1;33m,\u001b[0m \u001b[0mnp\u001b[0m\u001b[1;33m.\u001b[0m\u001b[0mmax\u001b[0m\u001b[1;33m(\u001b[0m\u001b[0mimage\u001b[0m\u001b[1;33m)\u001b[0m\u001b[1;33m\u001b[0m\u001b[1;33m\u001b[0m\u001b[0m\n\u001b[0m\u001b[0;32m     45\u001b[0m     \u001b[0mimtype\u001b[0m \u001b[1;33m=\u001b[0m \u001b[0mimage\u001b[0m\u001b[1;33m.\u001b[0m\u001b[0mdtype\u001b[0m\u001b[1;33m.\u001b[0m\u001b[0mtype\u001b[0m\u001b[1;33m\u001b[0m\u001b[1;33m\u001b[0m\u001b[0m\n\u001b[0;32m     46\u001b[0m     \u001b[1;32mtry\u001b[0m\u001b[1;33m:\u001b[0m\u001b[1;33m\u001b[0m\u001b[1;33m\u001b[0m\u001b[0m\n",
      "\u001b[1;32m<__array_function__ internals>\u001b[0m in \u001b[0;36mamin\u001b[1;34m(*args, **kwargs)\u001b[0m\n",
      "\u001b[1;32mC:\\ProgramData\\Anaconda3\\lib\\site-packages\\numpy\\core\\fromnumeric.py\u001b[0m in \u001b[0;36mamin\u001b[1;34m(a, axis, out, keepdims, initial, where)\u001b[0m\n\u001b[0;32m   2791\u001b[0m     \"\"\"\n\u001b[0;32m   2792\u001b[0m     return _wrapreduction(a, np.minimum, 'min', axis, None, out,\n\u001b[1;32m-> 2793\u001b[1;33m                           keepdims=keepdims, initial=initial, where=where)\n\u001b[0m\u001b[0;32m   2794\u001b[0m \u001b[1;33m\u001b[0m\u001b[0m\n\u001b[0;32m   2795\u001b[0m \u001b[1;33m\u001b[0m\u001b[0m\n",
      "\u001b[1;32mC:\\ProgramData\\Anaconda3\\lib\\site-packages\\numpy\\core\\fromnumeric.py\u001b[0m in \u001b[0;36m_wrapreduction\u001b[1;34m(obj, ufunc, method, axis, dtype, out, **kwargs)\u001b[0m\n\u001b[0;32m     88\u001b[0m                 \u001b[1;32mreturn\u001b[0m \u001b[0mreduction\u001b[0m\u001b[1;33m(\u001b[0m\u001b[0maxis\u001b[0m\u001b[1;33m=\u001b[0m\u001b[0maxis\u001b[0m\u001b[1;33m,\u001b[0m \u001b[0mout\u001b[0m\u001b[1;33m=\u001b[0m\u001b[0mout\u001b[0m\u001b[1;33m,\u001b[0m \u001b[1;33m**\u001b[0m\u001b[0mpasskwargs\u001b[0m\u001b[1;33m)\u001b[0m\u001b[1;33m\u001b[0m\u001b[1;33m\u001b[0m\u001b[0m\n\u001b[0;32m     89\u001b[0m \u001b[1;33m\u001b[0m\u001b[0m\n\u001b[1;32m---> 90\u001b[1;33m     \u001b[1;32mreturn\u001b[0m \u001b[0mufunc\u001b[0m\u001b[1;33m.\u001b[0m\u001b[0mreduce\u001b[0m\u001b[1;33m(\u001b[0m\u001b[0mobj\u001b[0m\u001b[1;33m,\u001b[0m \u001b[0maxis\u001b[0m\u001b[1;33m,\u001b[0m \u001b[0mdtype\u001b[0m\u001b[1;33m,\u001b[0m \u001b[0mout\u001b[0m\u001b[1;33m,\u001b[0m \u001b[1;33m**\u001b[0m\u001b[0mpasskwargs\u001b[0m\u001b[1;33m)\u001b[0m\u001b[1;33m\u001b[0m\u001b[1;33m\u001b[0m\u001b[0m\n\u001b[0m\u001b[0;32m     91\u001b[0m \u001b[1;33m\u001b[0m\u001b[0m\n\u001b[0;32m     92\u001b[0m \u001b[1;33m\u001b[0m\u001b[0m\n",
      "\u001b[1;31mTypeError\u001b[0m: '>=' not supported between instances of 'AxesSubplot' and 'Figure'"
     ]
    },
    {
     "data": {
      "image/png": "[encoded data removed]",
      "text/plain": [
       "<Figure size 576x360 with 8 Axes>"
      ]
     },
     "metadata": {
      "needs_background": "light"
     },
     "output_type": "display_data"
    }
   ],
   "source": [
    "imshow(try_all_threshold(gray_image))"
   ]
  },
  {
   "cell_type": "code",
   "execution_count": 8,
   "metadata": {},
   "outputs": [
    {
     "data": {
      "text/plain": [
       "<matplotlib.image.AxesImage at 0x2167918e908>"
      ]
     },
     "execution_count": 8,
     "metadata": {},
     "output_type": "execute_result"
    },
    {
     "data": {
      "image/png": "[encoded data removed]",
      "text/plain": [
       "<Figure size 432x288 with 1 Axes>"
      ]
     },
     "metadata": {
      "needs_background": "light"
     },
     "output_type": "display_data"
    }
   ],
   "source": [
    "imshow(np.around(gray_image, decimals=1))"
   ]
  },
  {
   "cell_type": "code",
   "execution_count": 41,
   "metadata": {},
   "outputs": [
    {
     "data": {
      "text/plain": [
       "<matplotlib.image.AxesImage at 0x2167d3e3408>"
      ]
     },
     "execution_count": 41,
     "metadata": {},
     "output_type": "execute_result"
    },
    {
     "data": {
      "image/png": "[encoded data removed]",
      "text/plain": [
       "<Figure size 432x288 with 1 Axes>"
      ]
     },
     "metadata": {
      "needs_background": "light"
     },
     "output_type": "display_data"
    }
   ],
   "source": [
    "imshow(denoise_nl_means(gray_image, patch_size=2, patch_distance=1))"
   ]
  },
  {
   "cell_type": "code",
   "execution_count": 10,
   "metadata": {},
   "outputs": [
    {
     "data": {
      "text/plain": [
       "(28, 28)"
      ]
     },
     "execution_count": 10,
     "metadata": {},
     "output_type": "execute_result"
    }
   ],
   "source": [
    "denoise_nl_means(gray_image2, patch_size=2).shape"
   ]
  },
  {
   "cell_type": "code",
   "execution_count": 11,
   "metadata": {},
   "outputs": [
    {
     "data": {
      "text/plain": [
       "<matplotlib.image.AxesImage at 0x2167925e408>"
      ]
     },
     "execution_count": 11,
     "metadata": {},
     "output_type": "execute_result"
    },
    {
     "data": {
      "image/png": "[encoded data removed]",
      "text/plain": [
       "<Figure size 432x288 with 1 Axes>"
      ]
     },
     "metadata": {
      "needs_background": "light"
     },
     "output_type": "display_data"
    }
   ],
   "source": [
    "imshow(np.around(denoise_nl_means(gray_image, patch_size=2), decimals=0))"
   ]
  },
  {
   "cell_type": "code",
   "execution_count": 12,
   "metadata": {},
   "outputs": [
    {
     "data": {
      "text/plain": [
       "<matplotlib.image.AxesImage at 0x216792c1388>"
      ]
     },
     "execution_count": 12,
     "metadata": {},
     "output_type": "execute_result"
    },
    {
     "data": {
      "image/png": "[encoded data removed]",
      "text/plain": [
       "<Figure size 432x288 with 1 Axes>"
      ]
     },
     "metadata": {
      "needs_background": "light"
     },
     "output_type": "display_data"
    }
   ],
   "source": [
    "imshow(np.around(denoise_nl_means(gray_image), decimals=0))"
   ]
  },
  {
   "cell_type": "code",
   "execution_count": 13,
   "metadata": {},
   "outputs": [],
   "source": [
    "rounded_image = np.around(gray_image, decimals=1)"
   ]
  },
  {
   "cell_type": "code",
   "execution_count": 14,
   "metadata": {},
   "outputs": [
    {
     "data": {
      "text/plain": [
       "<matplotlib.image.AxesImage at 0x21679321fc8>"
      ]
     },
     "execution_count": 14,
     "metadata": {},
     "output_type": "execute_result"
    },
    {
     "data": {
      "image/png": "[encoded data removed]",
      "text/plain": [
       "<Figure size 432x288 with 1 Axes>"
      ]
     },
     "metadata": {
      "needs_background": "light"
     },
     "output_type": "display_data"
    }
   ],
   "source": [
    "imshow(rounded_image)"
   ]
  },
  {
   "cell_type": "code",
   "execution_count": 15,
   "metadata": {},
   "outputs": [
    {
     "data": {
      "text/plain": [
       "array([[0.2, 0.2, 0.2, 0.2, 0.3, 0.3, 0.3, 0.3, 0.4, 0.4, 0.4, 0.4, 0.3,\n",
       "        0.4, 0.3, 0.3, 0.4, 0.3, 0.3, 0.4, 0.3, 0.3, 0.3, 0.3, 0.2, 0.2,\n",
       "        0.1, 0.1],\n",
       "       [0.1, 0.2, 0.3, 0.3, 0.4, 0.4, 0.4, 0.4, 0.4, 0.4, 0.4, 0.4, 0.4,\n",
       "        0.4, 0.4, 0.4, 0.4, 0.4, 0.4, 0.4, 0.4, 0.4, 0.4, 0.4, 0.3, 0.3,\n",
       "        0.2, 0.1],\n",
       "       [0.1, 0.2, 0.3, 0.4, 0.4, 0.4, 0.5, 0.4, 0.5, 0.5, 0.5, 0.5, 0.5,\n",
       "        0.4, 0.4, 0.4, 0.4, 0.4, 0.5, 0.4, 0.5, 0.4, 0.4, 0.4, 0.4, 0.3,\n",
       "        0.3, 0.2],\n",
       "       [0.2, 0.3, 0.4, 0.5, 0.5, 0.5, 0.5, 0.5, 0.5, 0.5, 0.5, 0.5, 0.5,\n",
       "        0.5, 0.4, 0.5, 0.5, 0.5, 0.5, 0.5, 0.5, 0.4, 0.5, 0.4, 0.4, 0.4,\n",
       "        0.3, 0.3],\n",
       "       [0.3, 0.3, 0.5, 0.5, 0.5, 0.5, 0.5, 0.5, 0.5, 0.5, 0.5, 0.5, 0.5,\n",
       "        0.5, 0.5, 0.5, 0.4, 0.5, 0.4, 0.5, 0.5, 0.5, 0.5, 0.5, 0.4, 0.4,\n",
       "        0.3, 0.3],\n",
       "       [0.3, 0.4, 0.5, 0.5, 0.5, 0.5, 0.5, 0.5, 0.5, 0.5, 0.5, 0.5, 0.5,\n",
       "        0.5, 0.5, 0.5, 0.5, 0.4, 0.5, 0.5, 0.4, 0.5, 0.5, 0.4, 0.4, 0.4,\n",
       "        0.3, 0.3],\n",
       "       [0.3, 0.4, 0.5, 0.5, 0.5, 0.5, 0.5, 0.5, 0.6, 0.6, 0.6, 0.6, 0.6,\n",
       "        0.7, 0.6, 0.6, 0.5, 0.4, 0.4, 0.4, 0.4, 0.4, 0.5, 0.4, 0.4, 0.4,\n",
       "        0.3, 0.3],\n",
       "       [0.3, 0.4, 0.6, 0.6, 0.5, 0.5, 0.5, 0.6, 0.7, 0.7, 0.7, 0.7, 0.7,\n",
       "        0.8, 0.8, 0.8, 0.6, 0.5, 0.4, 0.4, 0.4, 0.4, 0.5, 0.5, 0.4, 0.4,\n",
       "        0.3, 0.3],\n",
       "       [0.3, 0.4, 0.6, 0.6, 0.5, 0.5, 0.5, 0.7, 0.8, 0.7, 0.7, 0.7, 0.7,\n",
       "        0.8, 0.8, 0.8, 0.7, 0.5, 0.4, 0.4, 0.4, 0.4, 0.4, 0.5, 0.4, 0.4,\n",
       "        0.3, 0.3],\n",
       "       [0.3, 0.4, 0.6, 0.6, 0.5, 0.5, 0.5, 0.7, 0.8, 0.8, 0.7, 0.6, 0.6,\n",
       "        0.6, 0.8, 0.8, 0.7, 0.5, 0.5, 0.5, 0.5, 0.4, 0.5, 0.4, 0.4, 0.4,\n",
       "        0.3, 0.3],\n",
       "       [0.3, 0.3, 0.5, 0.6, 0.5, 0.5, 0.5, 0.7, 0.8, 0.8, 0.6, 0.5, 0.5,\n",
       "        0.5, 0.7, 0.8, 0.8, 0.5, 0.5, 0.6, 0.6, 0.5, 0.5, 0.5, 0.4, 0.4,\n",
       "        0.3, 0.3],\n",
       "       [0.3, 0.3, 0.6, 0.6, 0.5, 0.5, 0.5, 0.6, 0.8, 0.8, 0.7, 0.7, 0.7,\n",
       "        0.7, 0.7, 0.8, 0.7, 0.5, 0.6, 0.7, 0.7, 0.8, 0.5, 0.4, 0.4, 0.4,\n",
       "        0.3, 0.3],\n",
       "       [0.3, 0.3, 0.6, 0.6, 0.5, 0.5, 0.5, 0.5, 0.7, 0.8, 0.8, 0.8, 0.8,\n",
       "        0.8, 0.8, 0.8, 0.8, 0.5, 0.6, 0.7, 0.7, 0.8, 0.7, 0.5, 0.4, 0.4,\n",
       "        0.4, 0.3],\n",
       "       [0.3, 0.3, 0.5, 0.6, 0.5, 0.5, 0.5, 0.5, 0.5, 0.7, 0.8, 0.8, 0.7,\n",
       "        0.7, 0.8, 0.8, 0.8, 0.5, 0.5, 0.6, 0.7, 0.8, 0.7, 0.5, 0.4, 0.4,\n",
       "        0.4, 0.3],\n",
       "       [0.3, 0.3, 0.5, 0.6, 0.5, 0.5, 0.5, 0.5, 0.6, 0.8, 0.8, 0.7, 0.6,\n",
       "        0.6, 0.7, 0.8, 0.8, 0.6, 0.5, 0.5, 0.6, 0.8, 0.8, 0.5, 0.4, 0.4,\n",
       "        0.4, 0.3],\n",
       "       [0.3, 0.3, 0.5, 0.6, 0.5, 0.5, 0.5, 0.6, 0.7, 0.8, 0.8, 0.7, 0.5,\n",
       "        0.5, 0.7, 0.8, 0.8, 0.6, 0.6, 0.5, 0.5, 0.7, 0.8, 0.5, 0.4, 0.4,\n",
       "        0.4, 0.3],\n",
       "       [0.3, 0.3, 0.5, 0.6, 0.5, 0.5, 0.5, 0.7, 0.8, 0.8, 0.7, 0.6, 0.5,\n",
       "        0.5, 0.6, 0.8, 0.8, 0.6, 0.6, 0.7, 0.6, 0.7, 0.7, 0.6, 0.4, 0.4,\n",
       "        0.4, 0.3],\n",
       "       [0.3, 0.3, 0.6, 0.6, 0.5, 0.5, 0.5, 0.7, 0.8, 0.7, 0.6, 0.5, 0.4,\n",
       "        0.4, 0.6, 0.8, 0.8, 0.6, 0.5, 0.7, 0.8, 0.7, 0.7, 0.6, 0.4, 0.4,\n",
       "        0.4, 0.3],\n",
       "       [0.3, 0.3, 0.5, 0.6, 0.5, 0.5, 0.5, 0.5, 0.7, 0.6, 0.5, 0.5, 0.4,\n",
       "        0.4, 0.5, 0.6, 0.6, 0.5, 0.4, 0.5, 0.6, 0.6, 0.6, 0.5, 0.4, 0.4,\n",
       "        0.4, 0.3],\n",
       "       [0.3, 0.3, 0.5, 0.6, 0.5, 0.5, 0.5, 0.5, 0.5, 0.5, 0.5, 0.4, 0.4,\n",
       "        0.4, 0.4, 0.5, 0.5, 0.5, 0.4, 0.5, 0.4, 0.5, 0.4, 0.5, 0.4, 0.4,\n",
       "        0.4, 0.3],\n",
       "       [0.3, 0.3, 0.6, 0.6, 0.6, 0.5, 0.5, 0.5, 0.5, 0.4, 0.5, 0.4, 0.4,\n",
       "        0.5, 0.4, 0.4, 0.4, 0.4, 0.5, 0.4, 0.4, 0.5, 0.5, 0.4, 0.4, 0.4,\n",
       "        0.3, 0.3],\n",
       "       [0.2, 0.2, 0.6, 0.7, 0.6, 0.5, 0.5, 0.5, 0.5, 0.4, 0.5, 0.5, 0.4,\n",
       "        0.4, 0.4, 0.4, 0.4, 0.4, 0.5, 0.5, 0.5, 0.4, 0.4, 0.4, 0.4, 0.4,\n",
       "        0.3, 0.3],\n",
       "       [0.2, 0.2, 0.4, 0.7, 0.7, 0.6, 0.5, 0.5, 0.5, 0.5, 0.4, 0.5, 0.5,\n",
       "        0.5, 0.5, 0.5, 0.5, 0.5, 0.5, 0.5, 0.5, 0.5, 0.4, 0.4, 0.4, 0.3,\n",
       "        0.3, 0.2],\n",
       "       [0.2, 0.1, 0.2, 0.6, 0.7, 0.6, 0.6, 0.5, 0.5, 0.5, 0.5, 0.5, 0.5,\n",
       "        0.5, 0.5, 0.5, 0.5, 0.5, 0.5, 0.5, 0.5, 0.4, 0.4, 0.4, 0.4, 0.3,\n",
       "        0.3, 0.2],\n",
       "       [0.2, 0.1, 0.1, 0.3, 0.6, 0.6, 0.6, 0.5, 0.5, 0.5, 0.5, 0.5, 0.5,\n",
       "        0.5, 0.4, 0.4, 0.5, 0.5, 0.5, 0.5, 0.4, 0.4, 0.4, 0.4, 0.3, 0.3,\n",
       "        0.2, 0.2],\n",
       "       [0.2, 0.1, 0.1, 0.1, 0.3, 0.6, 0.5, 0.5, 0.5, 0.4, 0.4, 0.4, 0.4,\n",
       "        0.4, 0.4, 0.4, 0.4, 0.4, 0.4, 0.4, 0.4, 0.4, 0.4, 0.3, 0.3, 0.2,\n",
       "        0.2, 0.1],\n",
       "       [0.1, 0.1, 0.1, 0.1, 0.1, 0.2, 0.4, 0.4, 0.4, 0.4, 0.3, 0.3, 0.3,\n",
       "        0.3, 0.3, 0.3, 0.3, 0.3, 0.3, 0.3, 0.3, 0.3, 0.3, 0.3, 0.2, 0.2,\n",
       "        0.1, 0.1],\n",
       "       [0.1, 0.1, 0.1, 0.1, 0.1, 0.1, 0.2, 0.3, 0.3, 0.3, 0.2, 0.2, 0.2,\n",
       "        0.2, 0.2, 0.2, 0.2, 0.2, 0.2, 0.2, 0.2, 0.2, 0.2, 0.2, 0.2, 0.1,\n",
       "        0.1, 0.1]])"
      ]
     },
     "execution_count": 15,
     "metadata": {},
     "output_type": "execute_result"
    }
   ],
   "source": [
    "rounded_image"
   ]
  },
  {
   "cell_type": "code",
   "execution_count": 16,
   "metadata": {},
   "outputs": [
    {
     "data": {
      "text/plain": [
       "<matplotlib.image.AxesImage at 0x2167938afc8>"
      ]
     },
     "execution_count": 16,
     "metadata": {},
     "output_type": "execute_result"
    },
    {
     "data": {
      "image/png": "[encoded data removed]",
      "text/plain": [
       "<Figure size 432x288 with 1 Axes>"
      ]
     },
     "metadata": {
      "needs_background": "light"
     },
     "output_type": "display_data"
    }
   ],
   "source": [
    "imshow(exposure.equalize_hist(rounded_image))"
   ]
  },
  {
   "cell_type": "code",
   "execution_count": 17,
   "metadata": {},
   "outputs": [
    {
     "data": {
      "text/plain": [
       "array([[0.09183673, 0.09183673, 0.09183673, 0.09183673, 0.17957362,\n",
       "        0.17957362, 0.17957362, 0.17957362, 0.4630102 , 0.4630102 ,\n",
       "        0.4630102 , 0.4630102 , 0.17957362, 0.4630102 , 0.17957362,\n",
       "        0.17957362, 0.4630102 , 0.17957362, 0.17957362, 0.4630102 ,\n",
       "        0.17957362, 0.17957362, 0.17957362, 0.17957362, 0.09183673,\n",
       "        0.09183673, 0.03571429, 0.03571429],\n",
       "       [0.03571429, 0.09183673, 0.17957362, 0.17957362, 0.4630102 ,\n",
       "        0.4630102 , 0.4630102 , 0.4630102 , 0.4630102 , 0.4630102 ,\n",
       "        0.4630102 , 0.4630102 , 0.4630102 , 0.4630102 , 0.4630102 ,\n",
       "        0.4630102 , 0.4630102 , 0.4630102 , 0.4630102 , 0.4630102 ,\n",
       "        0.4630102 , 0.4630102 , 0.4630102 , 0.4630102 , 0.17957362,\n",
       "        0.17957362, 0.09183673, 0.03571429],\n",
       "       [0.03571429, 0.09183673, 0.17957362, 0.4630102 , 0.4630102 ,\n",
       "        0.4630102 , 0.70153061, 0.4630102 , 0.70153061, 0.70153061,\n",
       "        0.70153061, 0.70153061, 0.70153061, 0.4630102 , 0.4630102 ,\n",
       "        0.4630102 , 0.4630102 , 0.4630102 , 0.70153061, 0.4630102 ,\n",
       "        0.70153061, 0.4630102 , 0.4630102 , 0.4630102 , 0.4630102 ,\n",
       "        0.17957362, 0.17957362, 0.09183673],\n",
       "       [0.09183673, 0.17957362, 0.4630102 , 0.70153061, 0.70153061,\n",
       "        0.70153061, 0.70153061, 0.70153061, 0.70153061, 0.70153061,\n",
       "        0.70153061, 0.70153061, 0.70153061, 0.70153061, 0.4630102 ,\n",
       "        0.70153061, 0.70153061, 0.70153061, 0.70153061, 0.70153061,\n",
       "        0.70153061, 0.4630102 , 0.70153061, 0.4630102 , 0.4630102 ,\n",
       "        0.4630102 , 0.17957362, 0.17957362],\n",
       "       [0.17957362, 0.17957362, 0.70153061, 0.70153061, 0.70153061,\n",
       "        0.70153061, 0.70153061, 0.70153061, 0.70153061, 0.70153061,\n",
       "        0.70153061, 0.70153061, 0.70153061, 0.70153061, 0.70153061,\n",
       "        0.70153061, 0.4630102 , 0.70153061, 0.4630102 , 0.70153061,\n",
       "        0.70153061, 0.70153061, 0.70153061, 0.70153061, 0.4630102 ,\n",
       "        0.4630102 , 0.17957362, 0.17957362],\n",
       "       [0.17957362, 0.4630102 , 0.70153061, 0.70153061, 0.70153061,\n",
       "        0.70153061, 0.70153061, 0.70153061, 0.70153061, 0.70153061,\n",
       "        0.70153061, 0.70153061, 0.70153061, 0.70153061, 0.70153061,\n",
       "        0.70153061, 0.70153061, 0.4630102 , 0.70153061, 0.70153061,\n",
       "        0.4630102 , 0.70153061, 0.70153061, 0.4630102 , 0.4630102 ,\n",
       "        0.4630102 , 0.17957362, 0.17957362],\n",
       "       [0.17957362, 0.4630102 , 0.70153061, 0.70153061, 0.70153061,\n",
       "        0.70153061, 0.70153061, 0.70153061, 0.8622449 , 0.8622449 ,\n",
       "        0.8622449 , 0.8622449 , 0.8622449 , 0.92738703, 0.8622449 ,\n",
       "        0.8622449 , 0.70153061, 0.4630102 , 0.4630102 , 0.4630102 ,\n",
       "        0.4630102 , 0.4630102 , 0.70153061, 0.4630102 , 0.4630102 ,\n",
       "        0.4630102 , 0.17957362, 0.17957362],\n",
       "       [0.17957362, 0.4630102 , 0.8622449 , 0.8622449 , 0.70153061,\n",
       "        0.70153061, 0.70153061, 0.8622449 , 0.92738703, 0.92738703,\n",
       "        0.92738703, 0.92738703, 0.92738703, 1.        , 1.        ,\n",
       "        1.        , 0.8622449 , 0.70153061, 0.4630102 , 0.4630102 ,\n",
       "        0.4630102 , 0.4630102 , 0.70153061, 0.70153061, 0.4630102 ,\n",
       "        0.4630102 , 0.17957362, 0.17957362],\n",
       "       [0.17957362, 0.4630102 , 0.8622449 , 0.8622449 , 0.70153061,\n",
       "        0.70153061, 0.70153061, 0.92738703, 1.        , 0.92738703,\n",
       "        0.92738703, 0.92738703, 0.92738703, 1.        , 1.        ,\n",
       "        1.        , 0.92738703, 0.70153061, 0.4630102 , 0.4630102 ,\n",
       "        0.4630102 , 0.4630102 , 0.4630102 , 0.70153061, 0.4630102 ,\n",
       "        0.4630102 , 0.17957362, 0.17957362],\n",
       "       [0.17957362, 0.4630102 , 0.8622449 , 0.8622449 , 0.70153061,\n",
       "        0.70153061, 0.70153061, 0.92738703, 1.        , 1.        ,\n",
       "        0.92738703, 0.8622449 , 0.8622449 , 0.8622449 , 1.        ,\n",
       "        1.        , 0.92738703, 0.70153061, 0.70153061, 0.70153061,\n",
       "        0.70153061, 0.4630102 , 0.70153061, 0.4630102 , 0.4630102 ,\n",
       "        0.4630102 , 0.17957362, 0.17957362],\n",
       "       [0.17957362, 0.17957362, 0.70153061, 0.8622449 , 0.70153061,\n",
       "        0.70153061, 0.70153061, 0.92738703, 1.        , 1.        ,\n",
       "        0.8622449 , 0.70153061, 0.70153061, 0.70153061, 0.92738703,\n",
       "        1.        , 1.        , 0.70153061, 0.70153061, 0.8622449 ,\n",
       "        0.8622449 , 0.70153061, 0.70153061, 0.70153061, 0.4630102 ,\n",
       "        0.4630102 , 0.17957362, 0.17957362],\n",
       "       [0.17957362, 0.17957362, 0.8622449 , 0.8622449 , 0.70153061,\n",
       "        0.70153061, 0.70153061, 0.8622449 , 1.        , 1.        ,\n",
       "        0.92738703, 0.92738703, 0.92738703, 0.92738703, 0.92738703,\n",
       "        1.        , 0.92738703, 0.70153061, 0.8622449 , 0.92738703,\n",
       "        0.92738703, 1.        , 0.70153061, 0.4630102 , 0.4630102 ,\n",
       "        0.4630102 , 0.17957362, 0.17957362],\n",
       "       [0.17957362, 0.17957362, 0.8622449 , 0.8622449 , 0.70153061,\n",
       "        0.70153061, 0.70153061, 0.70153061, 0.92738703, 1.        ,\n",
       "        1.        , 1.        , 1.        , 1.        , 1.        ,\n",
       "        1.        , 1.        , 0.70153061, 0.8622449 , 0.92738703,\n",
       "        0.92738703, 1.        , 0.92738703, 0.70153061, 0.4630102 ,\n",
       "        0.4630102 , 0.4630102 , 0.17957362],\n",
       "       [0.17957362, 0.17957362, 0.70153061, 0.8622449 , 0.70153061,\n",
       "        0.70153061, 0.70153061, 0.70153061, 0.70153061, 0.92738703,\n",
       "        1.        , 1.        , 0.92738703, 0.92738703, 1.        ,\n",
       "        1.        , 1.        , 0.70153061, 0.70153061, 0.8622449 ,\n",
       "        0.92738703, 1.        , 0.92738703, 0.70153061, 0.4630102 ,\n",
       "        0.4630102 , 0.4630102 , 0.17957362],\n",
       "       [0.17957362, 0.17957362, 0.70153061, 0.8622449 , 0.70153061,\n",
       "        0.70153061, 0.70153061, 0.70153061, 0.8622449 , 1.        ,\n",
       "        1.        , 0.92738703, 0.8622449 , 0.8622449 , 0.92738703,\n",
       "        1.        , 1.        , 0.8622449 , 0.70153061, 0.70153061,\n",
       "        0.8622449 , 1.        , 1.        , 0.70153061, 0.4630102 ,\n",
       "        0.4630102 , 0.4630102 , 0.17957362],\n",
       "       [0.17957362, 0.17957362, 0.70153061, 0.8622449 , 0.70153061,\n",
       "        0.70153061, 0.70153061, 0.8622449 , 0.92738703, 1.        ,\n",
       "        1.        , 0.92738703, 0.70153061, 0.70153061, 0.92738703,\n",
       "        1.        , 1.        , 0.8622449 , 0.8622449 , 0.70153061,\n",
       "        0.70153061, 0.92738703, 1.        , 0.70153061, 0.4630102 ,\n",
       "        0.4630102 , 0.4630102 , 0.17957362],\n",
       "       [0.17957362, 0.17957362, 0.70153061, 0.8622449 , 0.70153061,\n",
       "        0.70153061, 0.70153061, 0.92738703, 1.        , 1.        ,\n",
       "        0.92738703, 0.8622449 , 0.70153061, 0.70153061, 0.8622449 ,\n",
       "        1.        , 1.        , 0.8622449 , 0.8622449 , 0.92738703,\n",
       "        0.8622449 , 0.92738703, 0.92738703, 0.8622449 , 0.4630102 ,\n",
       "        0.4630102 , 0.4630102 , 0.17957362],\n",
       "       [0.17957362, 0.17957362, 0.8622449 , 0.8622449 , 0.70153061,\n",
       "        0.70153061, 0.70153061, 0.92738703, 1.        , 0.92738703,\n",
       "        0.8622449 , 0.70153061, 0.4630102 , 0.4630102 , 0.8622449 ,\n",
       "        1.        , 1.        , 0.8622449 , 0.70153061, 0.92738703,\n",
       "        1.        , 0.92738703, 0.92738703, 0.8622449 , 0.4630102 ,\n",
       "        0.4630102 , 0.4630102 , 0.17957362],\n",
       "       [0.17957362, 0.17957362, 0.70153061, 0.8622449 , 0.70153061,\n",
       "        0.70153061, 0.70153061, 0.70153061, 0.92738703, 0.8622449 ,\n",
       "        0.70153061, 0.70153061, 0.4630102 , 0.4630102 , 0.70153061,\n",
       "        0.8622449 , 0.8622449 , 0.70153061, 0.4630102 , 0.70153061,\n",
       "        0.8622449 , 0.8622449 , 0.8622449 , 0.70153061, 0.4630102 ,\n",
       "        0.4630102 , 0.4630102 , 0.17957362],\n",
       "       [0.17957362, 0.17957362, 0.70153061, 0.8622449 , 0.70153061,\n",
       "        0.70153061, 0.70153061, 0.70153061, 0.70153061, 0.70153061,\n",
       "        0.70153061, 0.4630102 , 0.4630102 , 0.4630102 , 0.4630102 ,\n",
       "        0.70153061, 0.70153061, 0.70153061, 0.4630102 , 0.70153061,\n",
       "        0.4630102 , 0.70153061, 0.4630102 , 0.70153061, 0.4630102 ,\n",
       "        0.4630102 , 0.4630102 , 0.17957362],\n",
       "       [0.17957362, 0.17957362, 0.8622449 , 0.8622449 , 0.8622449 ,\n",
       "        0.70153061, 0.70153061, 0.70153061, 0.70153061, 0.4630102 ,\n",
       "        0.70153061, 0.4630102 , 0.4630102 , 0.70153061, 0.4630102 ,\n",
       "        0.4630102 , 0.4630102 , 0.4630102 , 0.70153061, 0.4630102 ,\n",
       "        0.4630102 , 0.70153061, 0.70153061, 0.4630102 , 0.4630102 ,\n",
       "        0.4630102 , 0.17957362, 0.17957362],\n",
       "       [0.09183673, 0.09183673, 0.8622449 , 0.92738703, 0.8622449 ,\n",
       "        0.70153061, 0.70153061, 0.70153061, 0.70153061, 0.4630102 ,\n",
       "        0.70153061, 0.70153061, 0.4630102 , 0.4630102 , 0.4630102 ,\n",
       "        0.4630102 , 0.4630102 , 0.4630102 , 0.70153061, 0.70153061,\n",
       "        0.70153061, 0.4630102 , 0.4630102 , 0.4630102 , 0.4630102 ,\n",
       "        0.4630102 , 0.17957362, 0.17957362],\n",
       "       [0.09183673, 0.09183673, 0.4630102 , 0.92738703, 0.92738703,\n",
       "        0.8622449 , 0.70153061, 0.70153061, 0.70153061, 0.70153061,\n",
       "        0.4630102 , 0.70153061, 0.70153061, 0.70153061, 0.70153061,\n",
       "        0.70153061, 0.70153061, 0.70153061, 0.70153061, 0.70153061,\n",
       "        0.70153061, 0.70153061, 0.4630102 , 0.4630102 , 0.4630102 ,\n",
       "        0.17957362, 0.17957362, 0.09183673],\n",
       "       [0.09183673, 0.03571429, 0.09183673, 0.8622449 , 0.92738703,\n",
       "        0.8622449 , 0.8622449 , 0.70153061, 0.70153061, 0.70153061,\n",
       "        0.70153061, 0.70153061, 0.70153061, 0.70153061, 0.70153061,\n",
       "        0.70153061, 0.70153061, 0.70153061, 0.70153061, 0.70153061,\n",
       "        0.70153061, 0.4630102 , 0.4630102 , 0.4630102 , 0.4630102 ,\n",
       "        0.17957362, 0.17957362, 0.09183673],\n",
       "       [0.09183673, 0.03571429, 0.03571429, 0.17957362, 0.8622449 ,\n",
       "        0.8622449 , 0.8622449 , 0.70153061, 0.70153061, 0.70153061,\n",
       "        0.70153061, 0.70153061, 0.70153061, 0.70153061, 0.4630102 ,\n",
       "        0.4630102 , 0.70153061, 0.70153061, 0.70153061, 0.70153061,\n",
       "        0.4630102 , 0.4630102 , 0.4630102 , 0.4630102 , 0.17957362,\n",
       "        0.17957362, 0.09183673, 0.09183673],\n",
       "       [0.09183673, 0.03571429, 0.03571429, 0.03571429, 0.17957362,\n",
       "        0.8622449 , 0.70153061, 0.70153061, 0.70153061, 0.4630102 ,\n",
       "        0.4630102 , 0.4630102 , 0.4630102 , 0.4630102 , 0.4630102 ,\n",
       "        0.4630102 , 0.4630102 , 0.4630102 , 0.4630102 , 0.4630102 ,\n",
       "        0.4630102 , 0.4630102 , 0.4630102 , 0.17957362, 0.17957362,\n",
       "        0.09183673, 0.09183673, 0.03571429],\n",
       "       [0.03571429, 0.03571429, 0.03571429, 0.03571429, 0.03571429,\n",
       "        0.09183673, 0.4630102 , 0.4630102 , 0.4630102 , 0.4630102 ,\n",
       "        0.17957362, 0.17957362, 0.17957362, 0.17957362, 0.17957362,\n",
       "        0.17957362, 0.17957362, 0.17957362, 0.17957362, 0.17957362,\n",
       "        0.17957362, 0.17957362, 0.17957362, 0.17957362, 0.09183673,\n",
       "        0.09183673, 0.03571429, 0.03571429],\n",
       "       [0.03571429, 0.03571429, 0.03571429, 0.03571429, 0.03571429,\n",
       "        0.03571429, 0.09183673, 0.17957362, 0.17957362, 0.17957362,\n",
       "        0.09183673, 0.09183673, 0.09183673, 0.09183673, 0.09183673,\n",
       "        0.09183673, 0.09183673, 0.09183673, 0.09183673, 0.09183673,\n",
       "        0.09183673, 0.09183673, 0.09183673, 0.09183673, 0.09183673,\n",
       "        0.03571429, 0.03571429, 0.03571429]])"
      ]
     },
     "execution_count": 17,
     "metadata": {},
     "output_type": "execute_result"
    }
   ],
   "source": [
    "(exposure.equalize_hist(rounded_image))"
   ]
  },
  {
   "cell_type": "code",
   "execution_count": 18,
   "metadata": {},
   "outputs": [
    {
     "name": "stderr",
     "output_type": "stream",
     "text": [
      "C:\\ProgramData\\Anaconda3\\lib\\site-packages\\skimage\\exposure\\exposure.py:181: UserWarning: This might be a color image. The histogram will be computed on the flattened image. You can instead apply this function to each color channel.\n",
      "  hist, bin_centers = histogram(image, nbins)\n"
     ]
    },
    {
     "data": {
      "text/plain": [
       "<matplotlib.image.AxesImage at 0x216793eaec8>"
      ]
     },
     "execution_count": 18,
     "metadata": {},
     "output_type": "execute_result"
    },
    {
     "data": {
      "image/png": "[encoded data removed]",
      "text/plain": [
       "<Figure size 432x288 with 1 Axes>"
      ]
     },
     "metadata": {
      "needs_background": "light"
     },
     "output_type": "display_data"
    }
   ],
   "source": [
    "imshow(rgb2gray(exposure.equalize_hist(image)))"
   ]
  },
  {
   "cell_type": "code",
   "execution_count": 19,
   "metadata": {},
   "outputs": [
    {
     "data": {
      "text/plain": [
       "<matplotlib.image.AxesImage at 0x21679463f08>"
      ]
     },
     "execution_count": 19,
     "metadata": {},
     "output_type": "execute_result"
    },
    {
     "data": {
      "image/png": "[encoded data removed]",
      "text/plain": [
       "<Figure size 432x288 with 1 Axes>"
      ]
     },
     "metadata": {
      "needs_background": "light"
     },
     "output_type": "display_data"
    }
   ],
   "source": [
    "imshow(np.around(rgb2gray(exposure.equalize_hist(image)), decimals=1))"
   ]
  },
  {
   "cell_type": "code",
   "execution_count": null,
   "metadata": {},
   "outputs": [],
   "source": []
  },
  {
   "cell_type": "code",
   "execution_count": null,
   "metadata": {},
   "outputs": [],
   "source": []
  },
  {
   "cell_type": "code",
   "execution_count": null,
   "metadata": {},
   "outputs": [],
   "source": []
  },
  {
   "cell_type": "code",
   "execution_count": null,
   "metadata": {},
   "outputs": [],
   "source": []
  },
  {
   "cell_type": "code",
   "execution_count": null,
   "metadata": {},
   "outputs": [],
   "source": []
  },
  {
   "cell_type": "code",
   "execution_count": null,
   "metadata": {},
   "outputs": [],
   "source": []
  },
  {
   "cell_type": "code",
   "execution_count": 20,
   "metadata": {},
   "outputs": [
    {
     "data": {
      "text/plain": [
       "array([[0.2, 0.2, 0.2, 0.2, 0.3, 0.3, 0.3, 0.3, 0.4, 0.4, 0.4, 0.4, 0.3,\n",
       "        0.4, 0.3, 0.3, 0.4, 0.3, 0.3, 0.4, 0.3, 0.3, 0.3, 0.3, 0.2, 0.2,\n",
       "        0.1, 0.1],\n",
       "       [0.1, 0.2, 0.3, 0.3, 0.4, 0.4, 0.4, 0.4, 0.4, 0.4, 0.4, 0.4, 0.4,\n",
       "        0.4, 0.4, 0.4, 0.4, 0.4, 0.4, 0.4, 0.4, 0.4, 0.4, 0.4, 0.3, 0.3,\n",
       "        0.2, 0.1],\n",
       "       [0.1, 0.2, 0.3, 0.4, 0.4, 0.4, 0.5, 0.4, 0.5, 0.5, 0.5, 0.5, 0.5,\n",
       "        0.4, 0.4, 0.4, 0.4, 0.4, 0.5, 0.4, 0.5, 0.4, 0.4, 0.4, 0.4, 0.3,\n",
       "        0.3, 0.2],\n",
       "       [0.2, 0.3, 0.4, 0.5, 0.5, 0.5, 0.5, 0.5, 0.5, 0.5, 0.5, 0.5, 0.5,\n",
       "        0.5, 0.4, 0.5, 0.5, 0.5, 0.5, 0.5, 0.5, 0.4, 0.5, 0.4, 0.4, 0.4,\n",
       "        0.3, 0.3],\n",
       "       [0.3, 0.3, 0.5, 0.5, 0.5, 0.5, 0.5, 0.5, 0.5, 0.5, 0.5, 0.5, 0.5,\n",
       "        0.5, 0.5, 0.5, 0.4, 0.5, 0.4, 0.5, 0.5, 0.5, 0.5, 0.5, 0.4, 0.4,\n",
       "        0.3, 0.3],\n",
       "       [0.3, 0.4, 0.5, 0.5, 0.5, 0.5, 0.5, 0.5, 0.5, 0.5, 0.5, 0.5, 0.5,\n",
       "        0.5, 0.5, 0.5, 0.5, 0.4, 0.5, 0.5, 0.4, 0.5, 0.5, 0.4, 0.4, 0.4,\n",
       "        0.3, 0.3],\n",
       "       [0.3, 0.4, 0.5, 0.5, 0.5, 0.5, 0.5, 0.5, 0.6, 0.6, 0.6, 0.6, 0.6,\n",
       "        0.7, 0.6, 0.6, 0.5, 0.4, 0.4, 0.4, 0.4, 0.4, 0.5, 0.4, 0.4, 0.4,\n",
       "        0.3, 0.3],\n",
       "       [0.3, 0.4, 0.6, 0.6, 0.5, 0.5, 0.5, 0.6, 0.7, 0.7, 0.7, 0.7, 0.7,\n",
       "        0.8, 0.8, 0.8, 0.6, 0.5, 0.4, 0.4, 0.4, 0.4, 0.5, 0.5, 0.4, 0.4,\n",
       "        0.3, 0.3],\n",
       "       [0.3, 0.4, 0.6, 0.6, 0.5, 0.5, 0.5, 0.7, 0.8, 0.7, 0.7, 0.7, 0.7,\n",
       "        0.8, 0.8, 0.8, 0.7, 0.5, 0.4, 0.4, 0.4, 0.4, 0.4, 0.5, 0.4, 0.4,\n",
       "        0.3, 0.3],\n",
       "       [0.3, 0.4, 0.6, 0.6, 0.5, 0.5, 0.5, 0.7, 0.8, 0.8, 0.7, 0.6, 0.6,\n",
       "        0.6, 0.8, 0.8, 0.7, 0.5, 0.5, 0.5, 0.5, 0.4, 0.5, 0.4, 0.4, 0.4,\n",
       "        0.3, 0.3],\n",
       "       [0.3, 0.3, 0.5, 0.6, 0.5, 0.5, 0.5, 0.7, 0.8, 0.8, 0.6, 0.5, 0.5,\n",
       "        0.5, 0.7, 0.8, 0.8, 0.5, 0.5, 0.6, 0.6, 0.5, 0.5, 0.5, 0.4, 0.4,\n",
       "        0.3, 0.3],\n",
       "       [0.3, 0.3, 0.6, 0.6, 0.5, 0.5, 0.5, 0.6, 0.8, 0.8, 0.7, 0.7, 0.7,\n",
       "        0.7, 0.7, 0.8, 0.7, 0.5, 0.6, 0.7, 0.7, 0.8, 0.5, 0.4, 0.4, 0.4,\n",
       "        0.3, 0.3],\n",
       "       [0.3, 0.3, 0.6, 0.6, 0.5, 0.5, 0.5, 0.5, 0.7, 0.8, 0.8, 0.8, 0.8,\n",
       "        0.8, 0.8, 0.8, 0.8, 0.5, 0.6, 0.7, 0.7, 0.8, 0.7, 0.5, 0.4, 0.4,\n",
       "        0.4, 0.3],\n",
       "       [0.3, 0.3, 0.5, 0.6, 0.5, 0.5, 0.5, 0.5, 0.5, 0.7, 0.8, 0.8, 0.7,\n",
       "        0.7, 0.8, 0.8, 0.8, 0.5, 0.5, 0.6, 0.7, 0.8, 0.7, 0.5, 0.4, 0.4,\n",
       "        0.4, 0.3],\n",
       "       [0.3, 0.3, 0.5, 0.6, 0.5, 0.5, 0.5, 0.5, 0.6, 0.8, 0.8, 0.7, 0.6,\n",
       "        0.6, 0.7, 0.8, 0.8, 0.6, 0.5, 0.5, 0.6, 0.8, 0.8, 0.5, 0.4, 0.4,\n",
       "        0.4, 0.3],\n",
       "       [0.3, 0.3, 0.5, 0.6, 0.5, 0.5, 0.5, 0.6, 0.7, 0.8, 0.8, 0.7, 0.5,\n",
       "        0.5, 0.7, 0.8, 0.8, 0.6, 0.6, 0.5, 0.5, 0.7, 0.8, 0.5, 0.4, 0.4,\n",
       "        0.4, 0.3],\n",
       "       [0.3, 0.3, 0.5, 0.6, 0.5, 0.5, 0.5, 0.7, 0.8, 0.8, 0.7, 0.6, 0.5,\n",
       "        0.5, 0.6, 0.8, 0.8, 0.6, 0.6, 0.7, 0.6, 0.7, 0.7, 0.6, 0.4, 0.4,\n",
       "        0.4, 0.3],\n",
       "       [0.3, 0.3, 0.6, 0.6, 0.5, 0.5, 0.5, 0.7, 0.8, 0.7, 0.6, 0.5, 0.4,\n",
       "        0.4, 0.6, 0.8, 0.8, 0.6, 0.5, 0.7, 0.8, 0.7, 0.7, 0.6, 0.4, 0.4,\n",
       "        0.4, 0.3],\n",
       "       [0.3, 0.3, 0.5, 0.6, 0.5, 0.5, 0.5, 0.5, 0.7, 0.6, 0.5, 0.5, 0.4,\n",
       "        0.4, 0.5, 0.6, 0.6, 0.5, 0.4, 0.5, 0.6, 0.6, 0.6, 0.5, 0.4, 0.4,\n",
       "        0.4, 0.3],\n",
       "       [0.3, 0.3, 0.5, 0.6, 0.5, 0.5, 0.5, 0.5, 0.5, 0.5, 0.5, 0.4, 0.4,\n",
       "        0.4, 0.4, 0.5, 0.5, 0.5, 0.4, 0.5, 0.4, 0.5, 0.4, 0.5, 0.4, 0.4,\n",
       "        0.4, 0.3],\n",
       "       [0.3, 0.3, 0.6, 0.6, 0.6, 0.5, 0.5, 0.5, 0.5, 0.4, 0.5, 0.4, 0.4,\n",
       "        0.5, 0.4, 0.4, 0.4, 0.4, 0.5, 0.4, 0.4, 0.5, 0.5, 0.4, 0.4, 0.4,\n",
       "        0.3, 0.3],\n",
       "       [0.2, 0.2, 0.6, 0.7, 0.6, 0.5, 0.5, 0.5, 0.5, 0.4, 0.5, 0.5, 0.4,\n",
       "        0.4, 0.4, 0.4, 0.4, 0.4, 0.5, 0.5, 0.5, 0.4, 0.4, 0.4, 0.4, 0.4,\n",
       "        0.3, 0.3],\n",
       "       [0.2, 0.2, 0.4, 0.7, 0.7, 0.6, 0.5, 0.5, 0.5, 0.5, 0.4, 0.5, 0.5,\n",
       "        0.5, 0.5, 0.5, 0.5, 0.5, 0.5, 0.5, 0.5, 0.5, 0.4, 0.4, 0.4, 0.3,\n",
       "        0.3, 0.2],\n",
       "       [0.2, 0.1, 0.2, 0.6, 0.7, 0.6, 0.6, 0.5, 0.5, 0.5, 0.5, 0.5, 0.5,\n",
       "        0.5, 0.5, 0.5, 0.5, 0.5, 0.5, 0.5, 0.5, 0.4, 0.4, 0.4, 0.4, 0.3,\n",
       "        0.3, 0.2],\n",
       "       [0.2, 0.1, 0.1, 0.3, 0.6, 0.6, 0.6, 0.5, 0.5, 0.5, 0.5, 0.5, 0.5,\n",
       "        0.5, 0.4, 0.4, 0.5, 0.5, 0.5, 0.5, 0.4, 0.4, 0.4, 0.4, 0.3, 0.3,\n",
       "        0.2, 0.2],\n",
       "       [0.2, 0.1, 0.1, 0.1, 0.3, 0.6, 0.5, 0.5, 0.5, 0.4, 0.4, 0.4, 0.4,\n",
       "        0.4, 0.4, 0.4, 0.4, 0.4, 0.4, 0.4, 0.4, 0.4, 0.4, 0.3, 0.3, 0.2,\n",
       "        0.2, 0.1],\n",
       "       [0.1, 0.1, 0.1, 0.1, 0.1, 0.2, 0.4, 0.4, 0.4, 0.4, 0.3, 0.3, 0.3,\n",
       "        0.3, 0.3, 0.3, 0.3, 0.3, 0.3, 0.3, 0.3, 0.3, 0.3, 0.3, 0.2, 0.2,\n",
       "        0.1, 0.1],\n",
       "       [0.1, 0.1, 0.1, 0.1, 0.1, 0.1, 0.2, 0.3, 0.3, 0.3, 0.2, 0.2, 0.2,\n",
       "        0.2, 0.2, 0.2, 0.2, 0.2, 0.2, 0.2, 0.2, 0.2, 0.2, 0.2, 0.2, 0.1,\n",
       "        0.1, 0.1]])"
      ]
     },
     "execution_count": 20,
     "metadata": {},
     "output_type": "execute_result"
    }
   ],
   "source": [
    "np.around(gray_image, decimals=1)"
   ]
  },
  {
   "cell_type": "code",
   "execution_count": 21,
   "metadata": {},
   "outputs": [],
   "source": [
    "img_frame = pd.DataFrame(np.around(gray_image, decimals=1).ravel())"
   ]
  },
  {
   "cell_type": "code",
   "execution_count": 22,
   "metadata": {},
   "outputs": [
    {
     "data": {
      "text/plain": [
       "<bound method DataFrame.nunique of        0\n",
       "0    0.2\n",
       "1    0.2\n",
       "2    0.2\n",
       "3    0.2\n",
       "4    0.3\n",
       "..   ...\n",
       "779  0.2\n",
       "780  0.2\n",
       "781  0.1\n",
       "782  0.1\n",
       "783  0.1\n",
       "\n",
       "[784 rows x 1 columns]>"
      ]
     },
     "execution_count": 22,
     "metadata": {},
     "output_type": "execute_result"
    }
   ],
   "source": [
    "img_frame.nunique"
   ]
  },
  {
   "cell_type": "code",
   "execution_count": null,
   "metadata": {},
   "outputs": [],
   "source": []
  },
  {
   "cell_type": "code",
   "execution_count": null,
   "metadata": {},
   "outputs": [],
   "source": []
  },
  {
   "cell_type": "code",
   "execution_count": 44,
   "metadata": {},
   "outputs": [
    {
     "data": {
      "image/png": "[encoded data removed]",
      "text/plain": [
       "<Figure size 432x288 with 1 Axes>"
      ]
     },
     "metadata": {
      "needs_background": "light"
     },
     "output_type": "display_data"
    }
   ],
   "source": [
    "sns_plot = sns.distplot(gray_image.ravel())\n",
    "fig = sns_plot.get_figure()"
   ]
  },
  {
   "cell_type": "code",
   "execution_count": 25,
   "metadata": {},
   "outputs": [],
   "source": [
    "binary_image = np.zeros((image.shape[0],image.shape[1]))"
   ]
  },
  {
   "cell_type": "code",
   "execution_count": 26,
   "metadata": {},
   "outputs": [],
   "source": [
    "patches = extract_patches_2d(image, (2,2))\n"
   ]
  },
  {
   "cell_type": "code",
   "execution_count": 27,
   "metadata": {},
   "outputs": [
    {
     "data": {
      "text/plain": [
       "(729, 2, 2, 3)"
      ]
     },
     "execution_count": 27,
     "metadata": {},
     "output_type": "execute_result"
    }
   ],
   "source": [
    "patches.shape"
   ]
  },
  {
   "cell_type": "code",
   "execution_count": null,
   "metadata": {},
   "outputs": [],
   "source": []
  }
 ],
 "metadata": {
  "kernelspec": {
   "display_name": "Python 3",
   "language": "python",
   "name": "python3"
  },
  "language_info": {
   "codemirror_mode": {
    "name": "ipython",
    "version": 3
   },
   "file_extension": ".py",
   "mimetype": "text/x-python",
   "name": "python",
   "nbconvert_exporter": "python",
   "pygments_lexer": "ipython3",
   "version": "3.7.6"
  }
 },
 "nbformat": 4,
 "nbformat_minor": 4
}
